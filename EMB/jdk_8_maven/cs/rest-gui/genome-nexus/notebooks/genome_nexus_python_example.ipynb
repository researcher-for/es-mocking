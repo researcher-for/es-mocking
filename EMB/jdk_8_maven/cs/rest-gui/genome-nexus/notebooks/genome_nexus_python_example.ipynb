{
 "cells": [
  {
   "cell_type": "markdown",
   "metadata": {},
   "source": [
    "# Programmatic Access to Genome Nexus\n",
    "This notebook gives some examples in Python for programmatic access to http://genomenexus.org. You can run these examples after installing Jupyter. Easiest way for using Jupyter is installing the Python 3 version of anaconda: https://www.anaconda.com/download/. After having that you can install Jupyter with:\n",
    "```\n",
    "conda install jupyter\n",
    "```\n",
    "For these exampels we also require the Swagger API client reader [Bravado](https://github.com/Yelp/bravado). Unfortunately not yet available in anaconda, but you can get it through `pip`:\n",
    "```\n",
    "conda install pip\n",
    "pip install bravado\n",
    "```\n",
    "Let's try connecting to the Genome Nexus API now:"
   ]
  },
  {
   "cell_type": "code",
   "execution_count": 23,
   "metadata": {},
   "outputs": [
    {
     "name": "stdout",
     "output_type": "stream",
     "text": [
      "SwaggerClient(https://www.genomenexus.org/)\n"
     ]
    }
   ],
   "source": [
    "from bravado.client import SwaggerClient\n",
    "client = SwaggerClient.from_url('https://www.genomenexus.org/v2/api-docs',\n",
    "                                config={\"validate_requests\":False,\"validate_responses\":False,\"validate_swagger_spec\":False})\n",
    "print(client)"
   ]
  },
  {
   "cell_type": "code",
   "execution_count": 24,
   "metadata": {},
   "outputs": [
    {
     "data": {
      "text/plain": [
       "['annotation_controller',\n",
       " 'ensembl_controller',\n",
       " 'info_controller',\n",
       " 'pdb_controller',\n",
       " 'pfam_controller']"
      ]
     },
     "execution_count": 24,
     "metadata": {},
     "output_type": "execute_result"
    }
   ],
   "source": [
    "dir(client)"
   ]
  },
  {
   "cell_type": "code",
   "execution_count": 25,
   "metadata": {
    "collapsed": true
   },
   "outputs": [],
   "source": [
    "for a in dir(client):\n",
    "    client.__setattr__(a[:-len('-controller')], client.__getattr__(a))"
   ]
  },
  {
   "cell_type": "code",
   "execution_count": 26,
   "metadata": {
    "collapsed": true
   },
   "outputs": [],
   "source": [
    "variant = client.annotation.fetchVariantAnnotationGET(variant='17:g.41242962_41242963insGA').result()"
   ]
  },
  {
   "cell_type": "code",
   "execution_count": 27,
   "metadata": {},
   "outputs": [
    {
     "data": {
      "text/plain": [
       "['allele_string',\n",
       " 'annotationJSON',\n",
       " 'annotation_summary',\n",
       " 'assembly_name',\n",
       " 'colocatedVariants',\n",
       " 'end',\n",
       " 'hotspots',\n",
       " 'id',\n",
       " 'most_severe_consequence',\n",
       " 'mutation_assessor',\n",
       " 'my_variant_info',\n",
       " 'seq_region_name',\n",
       " 'start',\n",
       " 'strand',\n",
       " 'transcript_consequences',\n",
       " 'variant']"
      ]
     },
     "execution_count": 27,
     "metadata": {},
     "output_type": "execute_result"
    }
   ],
   "source": [
    "dir(variant)"
   ]
  },
  {
   "cell_type": "code",
   "execution_count": 28,
   "metadata": {
    "collapsed": true
   },
   "outputs": [],
   "source": [
    "tc1 = variant.transcript_consequences[0] "
   ]
  },
  {
   "cell_type": "code",
   "execution_count": 29,
   "metadata": {},
   "outputs": [
    {
     "data": {
      "text/plain": [
       "['amino_acids',\n",
       " 'canonical',\n",
       " 'codons',\n",
       " 'consequence_terms',\n",
       " 'exon',\n",
       " 'gene_id',\n",
       " 'gene_symbol',\n",
       " 'hgnc_id',\n",
       " 'hgvsc',\n",
       " 'hgvsp',\n",
       " 'polyphen_prediction',\n",
       " 'polyphen_score',\n",
       " 'protein_end',\n",
       " 'protein_id',\n",
       " 'protein_start',\n",
       " 'refseq_transcript_ids',\n",
       " 'sift_prediction',\n",
       " 'sift_score',\n",
       " 'transcript_id',\n",
       " 'variant_allele']"
      ]
     },
     "execution_count": 29,
     "metadata": {},
     "output_type": "execute_result"
    }
   ],
   "source": [
    "dir(tc1)"
   ]
  },
  {
   "cell_type": "code",
   "execution_count": 30,
   "metadata": {},
   "outputs": [
    {
     "name": "stdout",
     "output_type": "stream",
     "text": [
      "TranscriptConsequence(amino_acids='Q/LX', canonical=None, codons='cag/cTCag', consequence_terms=['frameshift_variant', 'splice_region_variant'], exon='10/22', gene_id='ENSG00000012048', gene_symbol='BRCA1', hgnc_id=1100, hgvsc='ENST00000309486.4:c.3294_3295dup', hgvsp='ENSP00000310938.4:p.Gln1099LeufsTer11', polyphen_prediction=None, polyphen_score=None, protein_end=1099, protein_id='ENSP00000310938', protein_start=1099, refseq_transcript_ids=['NM_007297.3'], sift_prediction=None, sift_score=None, transcript_id='ENST00000309486', variant_allele='GA')\n"
     ]
    }
   ],
   "source": [
    "print(tc1)"
   ]
  },
  {
   "cell_type": "markdown",
   "metadata": {},
   "source": [
    "## Connect with cBioPortal API\n",
    "[cBioPortal](http://www.cbioportal.org) also uses Swagger for their API. "
   ]
  },
  {
   "cell_type": "code",
   "execution_count": 31,
   "metadata": {
    "collapsed": true
   },
   "outputs": [],
   "source": [
    "import seaborn as sns\n",
    "%matplotlib inline\n",
    "sns.set_style(\"white\")\n",
    "sns.set_context('talk')\n",
    "import matplotlib.pyplot as plt"
   ]
  },
  {
   "cell_type": "code",
   "execution_count": 32,
   "metadata": {},
   "outputs": [
    {
     "name": "stdout",
     "output_type": "stream",
     "text": [
      "SwaggerClient(https://www.cbioportal.org/api)\n"
     ]
    }
   ],
   "source": [
    "cbioportal = SwaggerClient.from_url('https://www.cbioportal.org/api/api-docs',\n",
    "                                config={\"validate_requests\":False,\"validate_responses\":False})\n",
    "print(cbioportal)"
   ]
  },
  {
   "cell_type": "code",
   "execution_count": 33,
   "metadata": {
    "collapsed": true
   },
   "outputs": [],
   "source": [
    "for a in dir(cbioportal):\n",
    "    cbioportal.__setattr__(a.replace(' ', '_').lower(), cbioportal.__getattr__(a))"
   ]
  },
  {
   "cell_type": "code",
   "execution_count": 34,
   "metadata": {},
   "outputs": [
    {
     "data": {
      "text/plain": [
       "['Cancer_Types',\n",
       " 'Clinical_Attributes',\n",
       " 'Clinical_Data',\n",
       " 'Clinical_Events',\n",
       " 'Copy_Number_Segments',\n",
       " 'Discrete_Copy_Number_Alterations',\n",
       " 'Gene_Panels',\n",
       " 'Genes',\n",
       " 'Molecular_Data',\n",
       " 'Molecular_Profiles',\n",
       " 'Mutations',\n",
       " 'Patients',\n",
       " 'Sample_Lists',\n",
       " 'Samples',\n",
       " 'Studies']"
      ]
     },
     "execution_count": 34,
     "metadata": {},
     "output_type": "execute_result"
    }
   ],
   "source": [
    "dir(cbioportal)"
   ]
  },
  {
   "cell_type": "code",
   "execution_count": 35,
   "metadata": {
    "collapsed": true
   },
   "outputs": [],
   "source": [
    "muts = cbioportal.mutations.getMutationsInMolecularProfileBySampleListIdUsingGET(\n",
    "    molecularProfileId=\"msk_impact_2017_mutations\", # {study_id}_mutations gives default mutations profile for study \n",
    "    sampleListId=\"msk_impact_2017_all\", # {study_id}_all includes all samples\n",
    "    projection=\"DETAILED\" # include gene info\n",
    ").result()"
   ]
  },
  {
   "cell_type": "code",
   "execution_count": 36,
   "metadata": {
    "collapsed": true
   },
   "outputs": [],
   "source": [
    "import pandas as pd"
   ]
  },
  {
   "cell_type": "code",
   "execution_count": 37,
   "metadata": {
    "collapsed": true
   },
   "outputs": [],
   "source": [
    "mdf = pd.DataFrame([dict(m.__dict__['_Model__dict'], \n",
    "    **m.__dict__['_Model__dict']['gene'].__dict__['_Model__dict']) for m in muts])"
   ]
  },
  {
   "cell_type": "code",
   "execution_count": 38,
   "metadata": {},
   "outputs": [
    {
     "data": {
      "image/png": "[encoded data removed]",
      "text/plain": [
       "<Figure size 432x288 with 1 Axes>"
      ]
     },
     "metadata": {},
     "output_type": "display_data"
    }
   ],
   "source": [
    "mdf.groupby('uniqueSampleKey').studyId.count().plot(kind='hist', bins=400, xlim=(0,30))\n",
    "plt.xlabel('Number of mutations in sample')\n",
    "plt.ylabel('Number of samples')\n",
    "plt.title('Number of mutations across samples in MSK-IMPACT (2017)')\n",
    "sns.despine(trim=True)"
   ]
  },
  {
   "cell_type": "code",
   "execution_count": 39,
   "metadata": {},
   "outputs": [
    {
     "data": {
      "image/png": "[encoded data removed]",
      "text/plain": [
       "<Figure size 432x288 with 1 Axes>"
      ]
     },
     "metadata": {},
     "output_type": "display_data"
    }
   ],
   "source": [
    "mdf.variantType.astype(str).value_counts().plot(kind='bar')\n",
    "plt.title('Types of mutations in MSK-IMPACT (2017)')\n",
    "sns.despine(trim=False)"
   ]
  },
  {
   "cell_type": "markdown",
   "metadata": {},
   "source": [
    "## Annotate cBioPortal mutations with Genome Nexus\n",
    "For convenience sake we're using only SNVs here. Eventually there will be an endpoint to help convert pos, ref, alt to the hgvs notation."
   ]
  },
  {
   "cell_type": "code",
   "execution_count": 40,
   "metadata": {
    "collapsed": true
   },
   "outputs": [],
   "source": [
    "snvs = mdf[(mdf.variantType == 'SNP') & (mdf.variantAllele != '-') &  (mdf.referenceAllele != '-')].copy()"
   ]
  },
  {
   "cell_type": "code",
   "execution_count": 41,
   "metadata": {
    "collapsed": true
   },
   "outputs": [],
   "source": [
    "# need query string like 9:g.22125503G>C\n",
    "snvs['hgvs_for_gn'] = snvs.chromosome.astype(str) + \":g.\" + snvs.startPosition.astype(str) + snvs.referenceAllele + '>' + snvs.variantAllele"
   ]
  },
  {
   "cell_type": "code",
   "execution_count": 42,
   "metadata": {
    "collapsed": true
   },
   "outputs": [],
   "source": [
    "assert(snvs['hgvs_for_gn'].isnull().sum() == 0)"
   ]
  },
  {
   "cell_type": "code",
   "execution_count": 43,
   "metadata": {},
   "outputs": [
    {
     "name": "stdout",
     "output_type": "stream",
     "text": [
      "Querying 48671 variants\n",
      "Querying [0, 500]: Success\n",
      "Querying [500, 1000]: Success\n",
      "Querying [1000, 1500]: Success\n",
      "Querying [1500, 2000]: Success\n",
      "Querying [2000, 2500]: Success\n",
      "Querying [2500, 3000]: Success\n",
      "Querying [3000, 3500]: Success\n",
      "Querying [3500, 4000]: Success\n",
      "Querying [4000, 4500]: Success\n",
      "Querying [4500, 5000]: Success\n",
      "Querying [5000, 5500]: Success\n",
      "Querying [5500, 6000]: Success\n",
      "Querying [6000, 6500]: Success\n",
      "Querying [6500, 7000]: Success\n",
      "Querying [7000, 7500]: Success\n",
      "Querying [7500, 8000]: Success\n",
      "Querying [8000, 8500]: Success\n",
      "Querying [8500, 9000]: Success\n",
      "Querying [9000, 9500]: Success\n",
      "Querying [9500, 10000]: Success\n",
      "Querying [10000, 10500]: Success\n",
      "Querying [10500, 11000]: Success\n",
      "Querying [11000, 11500]: Success\n",
      "Querying [11500, 12000]: Success\n",
      "Querying [12000, 12500]: Success\n",
      "Querying [12500, 13000]: Success\n",
      "Querying [13000, 13500]: Success\n",
      "Querying [13500, 14000]: Success\n",
      "Querying [14000, 14500]: Success\n",
      "Querying [14500, 15000]: Success\n",
      "Querying [15000, 15500]: Success\n",
      "Querying [15500, 16000]: Success\n",
      "Querying [16000, 16500]: Success\n",
      "Querying [16500, 17000]: Success\n",
      "Querying [17000, 17500]: Success\n",
      "Querying [17500, 18000]: Success\n",
      "Querying [18000, 18500]: Success\n",
      "Querying [18500, 19000]: Success\n",
      "Querying [19000, 19500]: Success\n",
      "Querying [19500, 20000]: Success\n",
      "Querying [20000, 20500]: Success\n",
      "Querying [20500, 21000]: Success\n",
      "Querying [21000, 21500]: Success\n",
      "Querying [21500, 22000]: Success\n",
      "Querying [22000, 22500]: Success\n",
      "Querying [22500, 23000]: Success\n",
      "Querying [23000, 23500]: Success\n",
      "Querying [23500, 24000]: Success\n",
      "Querying [24000, 24500]: Success\n",
      "Querying [24500, 25000]: Success\n",
      "Querying [25000, 25500]: Success\n",
      "Querying [25500, 26000]: Success\n",
      "Querying [26000, 26500]: Success\n",
      "Querying [26500, 27000]: Success\n",
      "Querying [27000, 27500]: Success\n",
      "Querying [27500, 28000]: Success\n",
      "Querying [28000, 28500]: Success\n",
      "Querying [28500, 29000]: Success\n",
      "Querying [29000, 29500]: Success\n",
      "Querying [29500, 30000]: Success\n",
      "Querying [30000, 30500]: Success\n",
      "Querying [30500, 31000]: Success\n",
      "Querying [31000, 31500]: Success\n",
      "Querying [31500, 32000]: Success\n",
      "Querying [32000, 32500]: Success\n",
      "Querying [32500, 33000]: Success\n",
      "Querying [33000, 33500]: Success\n",
      "Querying [33500, 34000]: Success\n",
      "Querying [34000, 34500]: Success\n",
      "Querying [34500, 35000]: Success\n",
      "Querying [35000, 35500]: Success\n",
      "Querying [35500, 36000]: Success\n",
      "Querying [36000, 36500]: Success\n",
      "Querying [36500, 37000]: Success\n",
      "Querying [37000, 37500]: Success\n",
      "Querying [37500, 38000]: Success\n",
      "Querying [38000, 38500]: Success\n",
      "Querying [38500, 39000]: Success\n",
      "Querying [39000, 39500]: Success\n",
      "Querying [39500, 40000]: Success\n",
      "Querying [40000, 40500]: Success\n",
      "Querying [40500, 41000]: Success\n",
      "Querying [41000, 41500]: Success\n",
      "Querying [41500, 42000]: Success\n",
      "Querying [42000, 42500]: Success\n",
      "Querying [42500, 43000]: Success\n",
      "Querying [43000, 43500]: Success\n",
      "Querying [43500, 44000]: Success\n",
      "Querying [44000, 44500]: Success\n",
      "Querying [44500, 45000]: Success\n",
      "Querying [45000, 45500]: Success\n",
      "Querying [45500, 46000]: Success\n",
      "Querying [46000, 46500]: Success\n",
      "Querying [46500, 47000]: Success\n",
      "Querying [47000, 47500]: Success\n",
      "Querying [47500, 48000]: Success\n",
      "Querying [48000, 48500]: Success\n",
      "Querying [48500, 48671]: Success\n"
     ]
    }
   ],
   "source": [
    "import time\n",
    "\n",
    "qvariants = list(set(snvs.hgvs_for_gn))\n",
    "gn_results = []\n",
    "chunk_size = 500\n",
    "print(\"Querying {} variants\".format(len(qvariants)))\n",
    "for n, qvar in enumerate([qvariants[i:i + chunk_size] for i in range(0, len(qvariants), chunk_size)]):\n",
    "    try:\n",
    "        gn_results += client.annotation.fetchVariantAnnotationPOST(variants=qvar,fields=['hotspots']).result()\n",
    "        print(\"Querying [{}, {}]: Success\".format(n*chunk_size, min(len(qvariants), n*chunk_size+chunk_size)))\n",
    "    except Exception as e:\n",
    "        print(\"Querying [{}, {}]: Failed\".format(n*chunk_size, min(len(qvariants), n*chunk_size+chunk_size)))\n",
    "        pass\n",
    "    time.sleep(1) # add a delay, to not overload server"
   ]
  },
  {
   "cell_type": "code",
   "execution_count": 44,
   "metadata": {
    "collapsed": true
   },
   "outputs": [],
   "source": [
    "gn_dict = {v.id:v for v in gn_results}"
   ]
  },
  {
   "cell_type": "code",
   "execution_count": 45,
   "metadata": {
    "collapsed": true
   },
   "outputs": [],
   "source": [
    "def is_sift_high(variant):\n",
    "    return variant in gn_dict and \\\n",
    "        len(list(filter(lambda x: x.sift_prediction == 'deleterious', gn_dict[variant].transcript_consequences))) > 0\n",
    "    \n",
    "def is_polyphen_high(variant):\n",
    "    return variant in gn_dict and \\\n",
    "        len(list(filter(lambda x: x.polyphen_prediction == 'probably_damaging', gn_dict[variant].transcript_consequences))) > 0"
   ]
  },
  {
   "cell_type": "markdown",
   "metadata": {},
   "source": [
    "## Check overlap SIFT/PolyPhen-2"
   ]
  },
  {
   "cell_type": "code",
   "execution_count": 51,
   "metadata": {
    "collapsed": true
   },
   "outputs": [],
   "source": [
    "snvs['is_sift_high'] = snvs.hgvs_for_gn.apply(is_sift_high)\n",
    "snvs['is_polyphen_high'] = snvs.hgvs_for_gn.apply(is_polyphen_high)"
   ]
  },
  {
   "cell_type": "code",
   "execution_count": 52,
   "metadata": {},
   "outputs": [
    {
     "data": {
      "text/plain": [
       "Text(0.5, 1.0, 'Variants as predicted to have a high impact in MSK-IMPACT (2017)')"
      ]
     },
     "execution_count": 52,
     "metadata": {},
     "output_type": "execute_result"
    },
    {
     "data": {
      "image/png": "[encoded data removed]",
      "text/plain": [
       "<Figure size 432x288 with 1 Axes>"
      ]
     },
     "metadata": {},
     "output_type": "display_data"
    }
   ],
   "source": [
    "from matplotlib_venn import venn2\n",
    "\n",
    "venn2(subsets=((snvs.is_sift_high & (~snvs.is_polyphen_high)).sum(),\n",
    "               (snvs.is_polyphen_high & (~snvs.is_sift_high)).sum(),\n",
    "               (snvs.is_polyphen_high & snvs.is_sift_high).sum()), set_labels=[\"SIFT\",\"PolyPhen-2\"])\n",
    "plt.title(\"Variants as predicted to have a high impact in MSK-IMPACT (2017)\")"
   ]
  }
 ],
 "metadata": {
  "kernelspec": {
   "display_name": "Python [default]",
   "language": "python",
   "name": "python3"
  },
  "language_info": {
   "codemirror_mode": {
    "name": "ipython",
    "version": 3
   },
   "file_extension": ".py",
   "mimetype": "text/x-python",
   "name": "python",
   "nbconvert_exporter": "python",
   "pygments_lexer": "ipython3",
   "version": "3.6.3"
  }
 },
 "nbformat": 4,
 "nbformat_minor": 2
}
